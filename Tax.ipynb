{
  "nbformat": 4,
  "nbformat_minor": 0,
  "metadata": {
    "colab": {
      "provenance": []
    },
    "kernelspec": {
      "name": "python3",
      "display_name": "Python 3"
    },
    "language_info": {
      "name": "python"
    }
  },
  "cells": [
    {
      "cell_type": "code",
      "execution_count": 1,
      "metadata": {
        "colab": {
          "base_uri": "https://localhost:8080/"
        },
        "id": "yNRqFeQAebef",
        "outputId": "e66721b1-5f45-49a1-929b-4fe11e63c337"
      },
      "outputs": [
        {
          "output_type": "stream",
          "name": "stdout",
          "text": [
            "enter your mark55\n",
            "you are pass\n"
          ]
        }
      ],
      "source": [
        " mark=int(input(\"enter your mark\"))\n",
        " if mark>50 :\n",
        "   print(\"you are pass\")\n",
        " if mark<50 :\n",
        "     print(\"you are failed\")\n"
      ]
    },
    {
      "cell_type": "code",
      "source": [
        "mark=int(input(\"enter your mark\"))\n",
        "if mark>50 :\n",
        "  print(\"you are pass\")\n",
        "elif mark==50:\n",
        "    print(\"just pass\")\n",
        "else:\n",
        "    print(\"your failed\")\n"
      ],
      "metadata": {
        "colab": {
          "base_uri": "https://localhost:8080/"
        },
        "id": "jRVKKndeiVFY",
        "outputId": "73b1f4b6-2301-4738-caea-417edcc09e6b"
      },
      "execution_count": 2,
      "outputs": [
        {
          "output_type": "stream",
          "name": "stdout",
          "text": [
            "enter your mark36\n",
            "your failed\n"
          ]
        }
      ]
    },
    {
      "cell_type": "code",
      "source": [
        "s=int(input(\"enter salary\"))\n",
        "if s>=250000:\n",
        "  print(\"you are taxable\")\n",
        "  x=s-250000\n",
        "  print (\"tax \",x*10/100)\n",
        "elif s<250000:\n",
        "  print(\"your not taxable\")"
      ],
      "metadata": {
        "colab": {
          "base_uri": "https://localhost:8080/"
        },
        "id": "sztcrjhJkpxa",
        "outputId": "c41fad49-9aac-4380-d8d9-5e53812f7909"
      },
      "execution_count": 3,
      "outputs": [
        {
          "output_type": "stream",
          "name": "stdout",
          "text": [
            "enter salary225555\n",
            "your not taxable\n"
          ]
        }
      ]
    },
    {
      "cell_type": "code",
      "source": [],
      "metadata": {
        "id": "qFYKIhrFmvGM"
      },
      "execution_count": 3,
      "outputs": []
    },
    {
      "cell_type": "code",
      "source": [
        "s=int(input(\"enter salary\"))\n",
        "if s>=250000:\n",
        "  print(\"you are taxable\")\n",
        "  x=s-250000\n",
        "  print (\"tax \",x*10/100)\n",
        "elif s<250000:\n",
        "  print(\"your not taxable\")"
      ],
      "metadata": {
        "colab": {
          "base_uri": "https://localhost:8080/"
        },
        "outputId": "2d6aab3f-1655-440d-89b8-bb6727ae5698",
        "id": "zgSHgrZXqgpl"
      },
      "execution_count": 4,
      "outputs": [
        {
          "output_type": "stream",
          "name": "stdout",
          "text": [
            "enter salary254555\n",
            "you are taxable\n",
            "tax  455.5\n"
          ]
        }
      ]
    },
    {
      "cell_type": "code",
      "source": [],
      "metadata": {
        "id": "4cBzJAwftPiC"
      },
      "execution_count": null,
      "outputs": []
    }
  ]
}