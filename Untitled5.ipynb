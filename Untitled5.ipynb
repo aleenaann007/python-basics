{
  "nbformat": 4,
  "nbformat_minor": 0,
  "metadata": {
    "colab": {
      "provenance": [],
      "authorship_tag": "ABX9TyMTQdM7i1ta5KNzxx0CnahU",
      "include_colab_link": true
    },
    "kernelspec": {
      "name": "python3",
      "display_name": "Python 3"
    },
    "language_info": {
      "name": "python"
    }
  },
  "cells": [
    {
      "cell_type": "markdown",
      "metadata": {
        "id": "view-in-github",
        "colab_type": "text"
      },
      "source": [
        "<a href=\"https://colab.research.google.com/github/aleenaann007/python-basics/blob/main/Untitled5.ipynb\" target=\"_parent\"><img src=\"https://colab.research.google.com/assets/colab-badge.svg\" alt=\"Open In Colab\"/></a>"
      ]
    },
    {
      "cell_type": "code",
      "execution_count": null,
      "metadata": {
        "colab": {
          "base_uri": "https://localhost:8080/"
        },
        "id": "RW_DCr7XekhR",
        "outputId": "af6214f6-2037-48d8-e75f-8456ed1283e5"
      },
      "outputs": [
        {
          "output_type": "stream",
          "name": "stdout",
          "text": [
            "enter the namealeena\n",
            "aleena\n"
          ]
        }
      ],
      "source": [
        "name= input(\"enter the name\")\n",
        "print(name)"
      ]
    },
    {
      "cell_type": "code",
      "source": [
        "mark1= int(input(\"enter mark\"))\n",
        "mark2=int(input(\"enter mark\"))\n",
        "mark3=int(input(\"enter mark\"))\n",
        "total=mark1+mark2+mark3\n",
        "print(total)"
      ],
      "metadata": {
        "colab": {
          "base_uri": "https://localhost:8080/"
        },
        "id": "YiNmb8kFiYTU",
        "outputId": "a6566871-8e4d-44a5-9a14-6e13e1f923b6"
      },
      "execution_count": null,
      "outputs": [
        {
          "output_type": "stream",
          "name": "stdout",
          "text": [
            "enter mark22\n",
            "enter mark33\n",
            "enter mark39\n",
            "94\n"
          ]
        }
      ]
    },
    {
      "cell_type": "code",
      "source": [
        "avg=total/3\n",
        "print(avg)"
      ],
      "metadata": {
        "colab": {
          "base_uri": "https://localhost:8080/"
        },
        "id": "rE9KXO8OkXus",
        "outputId": "141209fd-a355-4558-9be5-f3bbcea2d19a"
      },
      "execution_count": null,
      "outputs": [
        {
          "output_type": "stream",
          "name": "stdout",
          "text": [
            "31.333333333333332\n"
          ]
        }
      ]
    },
    {
      "cell_type": "code",
      "source": [
        "m1=int(input(\"enter mark\"))\n",
        "m2=int(input(\"enter mark\"))\n",
        "if m1>m2 :\n",
        "  print(m1,\" is greater\")\n",
        "else :\n",
        "  print(m2 ,\" is greater\")"
      ],
      "metadata": {
        "colab": {
          "base_uri": "https://localhost:8080/"
        },
        "id": "8PUn54Oul5I0",
        "outputId": "87294cd4-97a8-4457-c665-3989ec224936"
      },
      "execution_count": null,
      "outputs": [
        {
          "output_type": "stream",
          "name": "stdout",
          "text": [
            "enter mark21\n",
            "enter mark5\n",
            "21  is greater\n"
          ]
        }
      ]
    },
    {
      "cell_type": "code",
      "source": [
        "\n",
        "m1=int(input(\"enter mark\"))\n",
        "m2=int(input(\"enter mark\"))\n",
        "m3=int(input(\"enter mark\"))\n",
        "if m1>m2 :\n",
        "  print(m1 , \" is greater\")\n",
        "elif m2>m3 :\n",
        "   print(m2 ,\"is greater\")\n",
        "elif  m3>m1 :\n",
        "   print(m3 ,\" is greater\")"
      ],
      "metadata": {
        "colab": {
          "base_uri": "https://localhost:8080/"
        },
        "id": "Y3cwkCcfpG5M",
        "outputId": "8959791f-cab9-43da-b27a-ccbb1fd92643"
      },
      "execution_count": null,
      "outputs": [
        {
          "output_type": "stream",
          "name": "stdout",
          "text": [
            "enter mark44\n",
            "enter mark33\n",
            "enter mark22\n",
            "44  is greater\n"
          ]
        }
      ]
    },
    {
      "cell_type": "code",
      "source": [
        "m1=int(input(\" enter number\"))\n",
        "m2=int(input(\"enter number\"))\n",
        "m3=int(input(\"enter number\"))\n",
        "if m1>m2 and m1>m3 :\n",
        "  print(m1, \" is greatest\")\n",
        "if m2>m1 and m2>m3 :\n",
        "    print (m3, \" is greatest\")\n",
        "else:\n",
        "  print(m3,\" is largest\")"
      ],
      "metadata": {
        "colab": {
          "base_uri": "https://localhost:8080/"
        },
        "id": "FR0JQAr8uXqU",
        "outputId": "85b8552f-05d8-4ef5-bd28-29ac3f2fd42c"
      },
      "execution_count": null,
      "outputs": [
        {
          "output_type": "stream",
          "name": "stdout",
          "text": [
            " enter number50\n",
            "enter number100\n",
            "enter number900\n",
            "900  is largest\n"
          ]
        }
      ]
    },
    {
      "cell_type": "code",
      "source": [
        " m1 = int(input(\"enter mark\"))\n",
        "if m1%2 == 0 :\n",
        "   print (\"its even\")\n",
        "else :\n",
        "  print(\"odd\")"
      ],
      "metadata": {
        "colab": {
          "base_uri": "https://localhost:8080/"
        },
        "id": "BWoh1_kewJxS",
        "outputId": "57ab5c78-cd04-43d8-fb03-7f40b85ef1db"
      },
      "execution_count": null,
      "outputs": [
        {
          "output_type": "stream",
          "name": "stdout",
          "text": [
            "enter mark11\n",
            "odd\n"
          ]
        }
      ]
    },
    {
      "cell_type": "code",
      "source": [
        "\n",
        "for i in range(1,11) :\n",
        "  print(i)"
      ],
      "metadata": {
        "colab": {
          "base_uri": "https://localhost:8080/"
        },
        "id": "AU10eXtoya4W",
        "outputId": "8c595604-73a2-402c-aa36-1626b978537a"
      },
      "execution_count": null,
      "outputs": [
        {
          "output_type": "stream",
          "name": "stdout",
          "text": [
            "1\n",
            "2\n",
            "3\n",
            "4\n",
            "5\n",
            "6\n",
            "7\n",
            "8\n",
            "9\n",
            "10\n"
          ]
        }
      ]
    },
    {
      "cell_type": "code",
      "source": [
        "for i in range(1,11) :\n",
        "  if i%2== 0 :\n",
        "    print(i)"
      ],
      "metadata": {
        "colab": {
          "base_uri": "https://localhost:8080/"
        },
        "id": "xUiepjwNzh_4",
        "outputId": "604b3aba-bf5a-4c8a-f843-cc540ca09e7f"
      },
      "execution_count": null,
      "outputs": [
        {
          "output_type": "stream",
          "name": "stdout",
          "text": [
            "2\n",
            "4\n",
            "6\n",
            "8\n",
            "10\n"
          ]
        }
      ]
    },
    {
      "cell_type": "code",
      "source": [
        "for i in range (5,51) :\n",
        " if i%5== 0 :\n",
        "  print(i)"
      ],
      "metadata": {
        "colab": {
          "base_uri": "https://localhost:8080/"
        },
        "id": "WXt4_7Nc0ub0",
        "outputId": "b0f89252-75ac-48b5-b074-dd87a923cf3f"
      },
      "execution_count": null,
      "outputs": [
        {
          "output_type": "stream",
          "name": "stdout",
          "text": [
            "5\n",
            "10\n",
            "15\n",
            "20\n",
            "25\n",
            "30\n",
            "35\n",
            "40\n",
            "45\n",
            "50\n"
          ]
        }
      ]
    }
  ]
}