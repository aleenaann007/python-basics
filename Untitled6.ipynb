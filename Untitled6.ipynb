{
  "nbformat": 4,
  "nbformat_minor": 0,
  "metadata": {
    "colab": {
      "provenance": [],
      "authorship_tag": "ABX9TyPYWC16Lt72NikVTFBUxedy",
      "include_colab_link": true
    },
    "kernelspec": {
      "name": "python3",
      "display_name": "Python 3"
    },
    "language_info": {
      "name": "python"
    }
  },
  "cells": [
    {
      "cell_type": "markdown",
      "metadata": {
        "id": "view-in-github",
        "colab_type": "text"
      },
      "source": [
        "<a href=\"https://colab.research.google.com/github/aleenaann007/python-basics/blob/main/Untitled6.ipynb\" target=\"_parent\"><img src=\"https://colab.research.google.com/assets/colab-badge.svg\" alt=\"Open In Colab\"/></a>"
      ]
    },
    {
      "cell_type": "code",
      "execution_count": null,
      "metadata": {
        "colab": {
          "base_uri": "https://localhost:8080/"
        },
        "id": "2rSOBKwnoiyb",
        "outputId": "84c6f0fc-02d0-40be-92ea-52f25115f4df"
      },
      "outputs": [
        {
          "output_type": "stream",
          "name": "stdout",
          "text": [
            "enter passenger travel sourcekochi to kottayam\n",
            "enter passenger travel destinationkottayam\n",
            "enter total passenger44\n",
            "kochi to kottayam\n",
            "kottayam\n",
            "44\n"
          ]
        }
      ],
      "source": [
        "x=(input(\"enter passenger travel source\"))\n",
        "y=(input(\"enter passenger travel destination\"))\n",
        "z=int(input(\"enter total passenger\"))\n",
        "print(x)\n",
        "print(y)\n",
        "print(z)"
      ]
    },
    {
      "cell_type": "code",
      "source": [
        "x=int(input(\"enter total ticket fare\"))\n",
        "y=int(input(\"enter number of passenger\"))\n",
        "print(\"ticket fare per person\",x/y)"
      ],
      "metadata": {
        "colab": {
          "base_uri": "https://localhost:8080/"
        },
        "id": "bNZfZL_srXat",
        "outputId": "59d14b6a-1225-438f-de32-57a2b86a4cc7"
      },
      "execution_count": null,
      "outputs": [
        {
          "output_type": "stream",
          "name": "stdout",
          "text": [
            "enter total ticket fare22\n",
            "enter number of passenger44\n",
            "ticket fare per person 0.5\n"
          ]
        }
      ]
    },
    {
      "cell_type": "code",
      "source": [
        "x=(input(\"passenger name\"))\n",
        "y=int(input(\"ticket fare\"))\n",
        "print(\"passenger name\",x,\"ticket fare\",y)"
      ],
      "metadata": {
        "colab": {
          "base_uri": "https://localhost:8080/"
        },
        "id": "T94CXAAVrXRr",
        "outputId": "d92ebc6f-3a73-4dad-e81c-90406242e98d"
      },
      "execution_count": null,
      "outputs": [
        {
          "output_type": "stream",
          "name": "stdout",
          "text": [
            "passenger namealeena\n",
            "ticket fare200\n",
            "passenger name aleena ticket fare 200\n"
          ]
        }
      ]
    },
    {
      "cell_type": "code",
      "source": [
        "x=int(input(\"enter total fare\"))\n",
        "if x>10000 :\n",
        "  print(\"eligable for discount\")\n",
        "else :\n",
        "  print(\"not eligable for discount\")"
      ],
      "metadata": {
        "colab": {
          "base_uri": "https://localhost:8080/"
        },
        "id": "ddUKQHVqvQWS",
        "outputId": "8d093b53-5208-4851-fe4e-3e9a31996879"
      },
      "execution_count": null,
      "outputs": [
        {
          "output_type": "stream",
          "name": "stdout",
          "text": [
            "enter total fare10000\n",
            "not eliable for discount\n"
          ]
        }
      ]
    },
    {
      "cell_type": "code",
      "source": [
        "x=int(input(\"enter total fare\"))\n",
        "if x>50000 :\n",
        "  print( \"eligable for 20% discount\")\n",
        "else :\n",
        "  print(\"eligable for 10% discount\")  "
      ],
      "metadata": {
        "colab": {
          "base_uri": "https://localhost:8080/"
        },
        "id": "n7fv8ksuwWo0",
        "outputId": "4e406c83-fb0b-481b-dfa7-54112961cd4a"
      },
      "execution_count": null,
      "outputs": [
        {
          "output_type": "stream",
          "name": "stdout",
          "text": [
            "enter total fare70000\n",
            "eligable for 20% discount\n"
          ]
        }
      ]
    },
    {
      "cell_type": "code",
      "source": [
        "x=int(input(\"enter total fare\"))\n",
        "if x>15000 :\n",
        "  print( \"eligable for 20% discount\")\n",
        "  print(x*80/100)\n",
        "elif x>10000:\n",
        "  print(\"eligable for 10% discount\")\n",
        "  print(x*90/100)\n",
        "if x<10000 :\n",
        "  print( \"eligable for 5% discount\")\n",
        "  print(x*95/100)\n",
        "  \n",
        "\n"
      ],
      "metadata": {
        "colab": {
          "base_uri": "https://localhost:8080/"
        },
        "id": "vcGCltfyxVm7",
        "outputId": "3238f076-6b3e-4044-edd8-06fa07b78d08"
      },
      "execution_count": null,
      "outputs": [
        {
          "output_type": "stream",
          "name": "stdout",
          "text": [
            "enter total fare25000\n",
            "eligable for 20% discount\n",
            "20000.0\n"
          ]
        }
      ]
    },
    {
      "cell_type": "code",
      "source": [
        "x=int(input (\"enter a number\"))\n",
        "if x>0:\n",
        "  print(\"possitive\")\n",
        "elif x<0:\n",
        "    print (\"negitive\")\n",
        "else:\n",
        "      print(\"zero\")"
      ],
      "metadata": {
        "colab": {
          "base_uri": "https://localhost:8080/"
        },
        "id": "C7DER2ly0wWa",
        "outputId": "4a25f80f-84ec-49b8-95c6-934aff94d262"
      },
      "execution_count": null,
      "outputs": [
        {
          "output_type": "stream",
          "name": "stdout",
          "text": [
            "enter a number-20\n",
            "negitive\n"
          ]
        }
      ]
    },
    {
      "cell_type": "code",
      "source": [
        "x=int(input(\"enter the age\"))\n",
        "if x>18:\n",
        "  print(\"adult\")\n",
        "elif x>=13 and x<=18:\n",
        "  print(\"teenager\")\n",
        "elif x>=6 and x<=12:\n",
        "  print(\"kid\")  \n",
        "elif x>=2 and x<=5:\n",
        "  print(\"toddler\")\n",
        "else:\n",
        "  print(\"infant\")\n"
      ],
      "metadata": {
        "colab": {
          "base_uri": "https://localhost:8080/"
        },
        "id": "QOt8-d0C2Xf7",
        "outputId": "dd868cf7-ef41-4cd2-ace9-02f5cc72ec4e"
      },
      "execution_count": null,
      "outputs": [
        {
          "output_type": "stream",
          "name": "stdout",
          "text": [
            "enter the age60\n",
            "adult\n"
          ]
        }
      ]
    },
    {
      "cell_type": "markdown",
      "source": [],
      "metadata": {
        "id": "C4SgVMkC0wB7"
      }
    },
    {
      "cell_type": "code",
      "source": [
        "x=(input(\"passenger intial\"))\n",
        "if x==\"A\":\n",
        "  print(\"vowel\")\n",
        "elif x==\"E\":\n",
        "    print(\"vowel\")\n",
        "elif x==\"I\":\n",
        "  print(\"vowel\")\n",
        "elif x==\"O\":\n",
        "  print(\"vowel\")\n",
        "elif x==\"u\":\n",
        "  print(\"vowel\")  \n",
        "else:\n",
        "  print(\"not vowel\")      "
      ],
      "metadata": {
        "colab": {
          "base_uri": "https://localhost:8080/"
        },
        "id": "MIYOTWoiqRd8",
        "outputId": "cfe2513b-4707-4dfe-c698-050705c48e2e"
      },
      "execution_count": null,
      "outputs": [
        {
          "output_type": "stream",
          "name": "stdout",
          "text": [
            "passenger intialA\n",
            "vowel\n"
          ]
        }
      ]
    },
    {
      "cell_type": "code",
      "source": [],
      "metadata": {
        "id": "wPY27JQK6Qiu"
      },
      "execution_count": null,
      "outputs": []
    }
  ]
}