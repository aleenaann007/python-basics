{
  "nbformat": 4,
  "nbformat_minor": 0,
  "metadata": {
    "colab": {
      "provenance": [],
      "authorship_tag": "ABX9TyP7PKG1YHbQC11Fq+gqZo03",
      "include_colab_link": true
    },
    "kernelspec": {
      "name": "python3",
      "display_name": "Python 3"
    },
    "language_info": {
      "name": "python"
    }
  },
  "cells": [
    {
      "cell_type": "markdown",
      "metadata": {
        "id": "view-in-github",
        "colab_type": "text"
      },
      "source": [
        "<a href=\"https://colab.research.google.com/github/aleenaann007/python-basics/blob/main/untitled1.ipynb\" target=\"_parent\"><img src=\"https://colab.research.google.com/assets/colab-badge.svg\" alt=\"Open In Colab\"/></a>"
      ]
    },
    {
      "cell_type": "code",
      "execution_count": null,
      "metadata": {
        "colab": {
          "base_uri": "https://localhost:8080/"
        },
        "id": "yNRqFeQAebef",
        "outputId": "63ba8796-7e30-43db-a9f2-d3ac63911a7e"
      },
      "outputs": [
        {
          "output_type": "stream",
          "name": "stdout",
          "text": [
            "enter your mark80\n",
            "you are pass\n"
          ]
        }
      ],
      "source": [
        " mark=int(input(\"enter your mark\"))\n",
        " if mark>50 :\n",
        "   print(\"you are pass\")\n",
        " if mark<50 :\n",
        "     print(\"you are failed\")\n"
      ]
    },
    {
      "cell_type": "code",
      "source": [
        "mark=int(input(\"enter your mark\"))\n",
        "if mark>50 :\n",
        "  print(\"you are pass\")\n",
        "elif mark==50:\n",
        "    print(\"just pass\")\n",
        "else:\n",
        "    print(\"your failed\")\n"
      ],
      "metadata": {
        "colab": {
          "base_uri": "https://localhost:8080/"
        },
        "id": "jRVKKndeiVFY",
        "outputId": "a0a59ef0-a475-4116-c5c7-6bc2840c2f7f"
      },
      "execution_count": null,
      "outputs": [
        {
          "output_type": "stream",
          "name": "stdout",
          "text": [
            "enter your mark50\n",
            "just pass\n"
          ]
        }
      ]
    },
    {
      "cell_type": "code",
      "source": [
        "s=int(input(\"enter salary\"))\n",
        "if s>=250000:\n",
        "  print(\"you are taxable\")\n",
        "  x=s-250000\n",
        "  print (\"tax \",x*10/100)\n",
        "elif s<250000:\n",
        "  print(\"your not taxable\")"
      ],
      "metadata": {
        "colab": {
          "base_uri": "https://localhost:8080/"
        },
        "id": "sztcrjhJkpxa",
        "outputId": "4a81f3c7-f444-4dad-8c56-05498dafcea1"
      },
      "execution_count": null,
      "outputs": [
        {
          "output_type": "stream",
          "name": "stdout",
          "text": [
            "enter salary300000\n",
            "you are taxable\n",
            "tax  5000.0\n"
          ]
        }
      ]
    },
    {
      "cell_type": "code",
      "source": [],
      "metadata": {
        "id": "qFYKIhrFmvGM"
      },
      "execution_count": null,
      "outputs": []
    },
    {
      "cell_type": "code",
      "source": [
        "s=int(input(\"enter salary\"))\n",
        "if s>=250000:\n",
        "  print(\"you are taxable\")\n",
        "  x=s-250000\n",
        "  print (\"tax \",x*10/100)\n",
        "elif s<250000:\n",
        "  print(\"your not taxable\")"
      ],
      "metadata": {
        "colab": {
          "base_uri": "https://localhost:8080/"
        },
        "outputId": "4a81f3c7-f444-4dad-8c56-05498dafcea1",
        "id": "zgSHgrZXqgpl"
      },
      "execution_count": null,
      "outputs": [
        {
          "output_type": "stream",
          "name": "stdout",
          "text": [
            "enter salary300000\n",
            "you are taxable\n",
            "tax  5000.0\n"
          ]
        }
      ]
    },
    {
      "cell_type": "code",
      "source": [
        "s=int(input(\"enter salary\"))\n",
        "if s>=250000 and s<=500000:\n",
        "  print(\"your taxable\")\n",
        "  print(\"tax \",s*10/100)\n",
        "elif s>500000:\n",
        "  print(\"your taxable\")\n",
        "  print(\"tax\" <s*20/100)\n",
        "elif s<250000:\n",
        "  print(\"your not taxable\")"
      ],
      "metadata": {
        "colab": {
          "base_uri": "https://localhost:8080/"
        },
        "id": "pgBDfEXuqp-H",
        "outputId": "1870a4f8-d8b4-4d35-a6c8-7df7d981fe43"
      },
      "execution_count": null,
      "outputs": [
        {
          "output_type": "stream",
          "name": "stdout",
          "text": [
            "enter salary400000\n",
            "your taxable\n",
            "tax  40000.0\n"
          ]
        }
      ]
    },
    {
      "cell_type": "code",
      "source": [
        "s=int(input(\"enter salary\"))\n",
        "if s>=250000 and s<=500000:\n",
        "  print(\"your taxable\")\n",
        "  x=s-250000\n",
        "  print(\"tax \",x*10/100)\n",
        "elif s>500000:\n",
        "  print(\"your taxable\")\n",
        "  x=s-250000\n",
        "  print(\"tax\", x*20/100)\n",
        "elif s<250000:\n",
        "  print(\"your not taxable\")"
      ],
      "metadata": {
        "colab": {
          "base_uri": "https://localhost:8080/"
        },
        "id": "5fWgYWJbtKb9",
        "outputId": "31f4a333-aadf-49cb-b01c-ccd7927c6c25"
      },
      "execution_count": null,
      "outputs": [
        {
          "output_type": "stream",
          "name": "stdout",
          "text": [
            "enter salary300000\n",
            "your taxable\n",
            "tax  5000.0\n"
          ]
        }
      ]
    },
    {
      "cell_type": "code",
      "source": [],
      "metadata": {
        "id": "4cBzJAwftPiC"
      },
      "execution_count": null,
      "outputs": []
    }
  ]
}